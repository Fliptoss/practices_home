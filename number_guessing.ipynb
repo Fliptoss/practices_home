{
 "cells": [
  {
   "cell_type": "markdown",
   "metadata": {},
   "source": [
    "This a simple number guessing game"
   ]
  },
  {
   "cell_type": "code",
   "execution_count": 5,
   "metadata": {},
   "outputs": [
    {
     "name": "stdout",
     "output_type": "stream",
     "text": [
      "Too low\n",
      "Too low\n",
      "Too low\n",
      "Too high\n",
      "Too high\n",
      "You guessed it right!\n"
     ]
    }
   ],
   "source": [
    "import random\n",
    "\n",
    "def play_game():\n",
    "    n = random.randrange(1, 100)\n",
    "    guess = None\n",
    "\n",
    "    while guess != n:\n",
    "        try:\n",
    "            guess = int(input(\"Guess the number (1-99): \"))\n",
    "            if guess < 1 or guess > 99:\n",
    "                print(\"Please enter a number between 1 and 99.\")\n",
    "                continue\n",
    "        except ValueError:\n",
    "            print(\"Invalid input. Please enter a number.\")\n",
    "            continue\n",
    "\n",
    "        if guess < n:\n",
    "            print(\"Too low\")\n",
    "        elif guess > n:\n",
    "            print(\"Too high\")\n",
    "    \n",
    "    print('You guessed it right!')\n",
    "\n",
    "def main():\n",
    "    while True:\n",
    "        try:\n",
    "            press = int(input(\"Press 1 to play and 2 to quit: \"))\n",
    "        except ValueError:\n",
    "            print(\"Invalid choice. Please choose 1 or 2.\")\n",
    "            continue\n",
    "        \n",
    "        if press == 1:\n",
    "            play_game()\n",
    "            play_again = input(\"Do you want to play again? Press 1 for yes or any other key to quit: \")\n",
    "            if play_again != '1':\n",
    "                break\n",
    "        elif press == 2:\n",
    "            break\n",
    "        else:\n",
    "            print(\"Invalid choice. Please choose 1 or 2.\")\n",
    "\n",
    "if __name__ == \"__main__\":\n",
    "    main()"
   ]
  },
  {
   "cell_type": "code",
   "execution_count": null,
   "metadata": {},
   "outputs": [],
   "source": []
  }
 ],
 "metadata": {
  "kernelspec": {
   "display_name": "Python 3",
   "language": "python",
   "name": "python3"
  },
  "language_info": {
   "codemirror_mode": {
    "name": "ipython",
    "version": 3
   },
   "file_extension": ".py",
   "mimetype": "text/x-python",
   "name": "python",
   "nbconvert_exporter": "python",
   "pygments_lexer": "ipython3",
   "version": "3.11.0"
  }
 },
 "nbformat": 4,
 "nbformat_minor": 2
}
